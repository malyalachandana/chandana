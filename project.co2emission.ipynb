{
 "cells": [
  {
   "cell_type": "code",
   "execution_count": 1,
   "id": "2658daea",
   "metadata": {},
   "outputs": [],
   "source": [
    "# This Python 3 environment comes with many helpful analytics libraries installed\n",
    "# It is defined by the kaggle/python Docker image: https://github.com/kaggle/docker-python\n",
    "# For example, here's several helpful packages to load\n"
   ]
  },
  {
   "cell_type": "code",
   "execution_count": 2,
   "id": "29c88730",
   "metadata": {},
   "outputs": [],
   "source": [
    "import numpy as np # linear algebra\n",
    "import pandas as pd # data processing, CSV file I/O (e.g. pd.read_csv)"
   ]
  },
  {
   "cell_type": "code",
   "execution_count": 3,
   "id": "89ec36b5",
   "metadata": {},
   "outputs": [],
   "source": [
    "# Input data files are available in the read-only \"../input/\" directory\n",
    "# For example, running this (by clicking run or pressing Shift+Enter) will list all files under the input directory\n"
   ]
  },
  {
   "cell_type": "code",
   "execution_count": 4,
   "id": "280c3891",
   "metadata": {},
   "outputs": [],
   "source": [
    "import os\n",
    "for dirname, _, filenames in os.walk('/kaggle/input'):\n",
    "    for filename in filenames:\n",
    "        print(os.path.join(dirname, filename))"
   ]
  },
  {
   "cell_type": "code",
   "execution_count": 5,
   "id": "35a5aafd",
   "metadata": {},
   "outputs": [],
   "source": [
    "# You can write up to 20GB to the current directory (/kaggle/working/) that gets preserved as output when you create a version using \"Save & Run All\" \n",
    "# You can also write temporary files to /kaggle/temp/, but they won't be saved outside of the current session"
   ]
  },
  {
   "cell_type": "code",
   "execution_count": 6,
   "id": "ec8dd2b6",
   "metadata": {},
   "outputs": [],
   "source": [
    "#To visualize the data\n",
    "import seaborn as sns\n",
    "#To work with dataframes\n",
    "import pandas as pd\n",
    "#To perform numerical operations\n",
    "import numpy as np\n",
    "#To partition the data\n",
    "from sklearn.model_selection import train_test_split\n",
    "#importing the library for logistic regression\n",
    "from sklearn.linear_model import LogisticRegression\n",
    "#importing performance metrics\n",
    "from sklearn.metrics import accuracy_score,confusion_matrix"
   ]
  },
  {
   "cell_type": "code",
   "execution_count": 9,
   "id": "48200a92",
   "metadata": {},
   "outputs": [
    {
     "data": {
      "text/html": [
       "<div>\n",
       "<style scoped>\n",
       "    .dataframe tbody tr th:only-of-type {\n",
       "        vertical-align: middle;\n",
       "    }\n",
       "\n",
       "    .dataframe tbody tr th {\n",
       "        vertical-align: top;\n",
       "    }\n",
       "\n",
       "    .dataframe thead th {\n",
       "        text-align: right;\n",
       "    }\n",
       "</style>\n",
       "<table border=\"1\" class=\"dataframe\">\n",
       "  <thead>\n",
       "    <tr style=\"text-align: right;\">\n",
       "      <th></th>\n",
       "      <th>Make</th>\n",
       "      <th>Model</th>\n",
       "      <th>Vehicle Class</th>\n",
       "      <th>Engine Size(L)</th>\n",
       "      <th>Cylinders</th>\n",
       "      <th>Transmission</th>\n",
       "      <th>Fuel Type</th>\n",
       "      <th>Fuel Consumption City (L/100 km)</th>\n",
       "      <th>Fuel Consumption Hwy (L/100 km)</th>\n",
       "      <th>Fuel Consumption Comb (L/100 km)</th>\n",
       "      <th>Fuel Consumption Comb (mpg)</th>\n",
       "      <th>CO2 Emissions(g/km)</th>\n",
       "    </tr>\n",
       "  </thead>\n",
       "  <tbody>\n",
       "    <tr>\n",
       "      <th>0</th>\n",
       "      <td>ACURA</td>\n",
       "      <td>ILX</td>\n",
       "      <td>COMPACT</td>\n",
       "      <td>2.0</td>\n",
       "      <td>4</td>\n",
       "      <td>AS5</td>\n",
       "      <td>Z</td>\n",
       "      <td>9.9</td>\n",
       "      <td>6.7</td>\n",
       "      <td>8.5</td>\n",
       "      <td>33</td>\n",
       "      <td>196</td>\n",
       "    </tr>\n",
       "    <tr>\n",
       "      <th>1</th>\n",
       "      <td>ACURA</td>\n",
       "      <td>ILX</td>\n",
       "      <td>COMPACT</td>\n",
       "      <td>2.4</td>\n",
       "      <td>4</td>\n",
       "      <td>M6</td>\n",
       "      <td>Z</td>\n",
       "      <td>11.2</td>\n",
       "      <td>7.7</td>\n",
       "      <td>9.6</td>\n",
       "      <td>29</td>\n",
       "      <td>221</td>\n",
       "    </tr>\n",
       "    <tr>\n",
       "      <th>2</th>\n",
       "      <td>ACURA</td>\n",
       "      <td>ILX HYBRID</td>\n",
       "      <td>COMPACT</td>\n",
       "      <td>1.5</td>\n",
       "      <td>4</td>\n",
       "      <td>AV7</td>\n",
       "      <td>Z</td>\n",
       "      <td>6.0</td>\n",
       "      <td>5.8</td>\n",
       "      <td>5.9</td>\n",
       "      <td>48</td>\n",
       "      <td>136</td>\n",
       "    </tr>\n",
       "    <tr>\n",
       "      <th>3</th>\n",
       "      <td>ACURA</td>\n",
       "      <td>MDX 4WD</td>\n",
       "      <td>SUV - SMALL</td>\n",
       "      <td>3.5</td>\n",
       "      <td>6</td>\n",
       "      <td>AS6</td>\n",
       "      <td>Z</td>\n",
       "      <td>12.7</td>\n",
       "      <td>9.1</td>\n",
       "      <td>11.1</td>\n",
       "      <td>25</td>\n",
       "      <td>255</td>\n",
       "    </tr>\n",
       "    <tr>\n",
       "      <th>4</th>\n",
       "      <td>ACURA</td>\n",
       "      <td>RDX AWD</td>\n",
       "      <td>SUV - SMALL</td>\n",
       "      <td>3.5</td>\n",
       "      <td>6</td>\n",
       "      <td>AS6</td>\n",
       "      <td>Z</td>\n",
       "      <td>12.1</td>\n",
       "      <td>8.7</td>\n",
       "      <td>10.6</td>\n",
       "      <td>27</td>\n",
       "      <td>244</td>\n",
       "    </tr>\n",
       "  </tbody>\n",
       "</table>\n",
       "</div>"
      ],
      "text/plain": [
       "    Make       Model Vehicle Class  Engine Size(L)  Cylinders Transmission  \\\n",
       "0  ACURA         ILX       COMPACT             2.0          4          AS5   \n",
       "1  ACURA         ILX       COMPACT             2.4          4           M6   \n",
       "2  ACURA  ILX HYBRID       COMPACT             1.5          4          AV7   \n",
       "3  ACURA     MDX 4WD   SUV - SMALL             3.5          6          AS6   \n",
       "4  ACURA     RDX AWD   SUV - SMALL             3.5          6          AS6   \n",
       "\n",
       "  Fuel Type  Fuel Consumption City (L/100 km)  \\\n",
       "0         Z                               9.9   \n",
       "1         Z                              11.2   \n",
       "2         Z                               6.0   \n",
       "3         Z                              12.7   \n",
       "4         Z                              12.1   \n",
       "\n",
       "   Fuel Consumption Hwy (L/100 km)  Fuel Consumption Comb (L/100 km)  \\\n",
       "0                              6.7                               8.5   \n",
       "1                              7.7                               9.6   \n",
       "2                              5.8                               5.9   \n",
       "3                              9.1                              11.1   \n",
       "4                              8.7                              10.6   \n",
       "\n",
       "   Fuel Consumption Comb (mpg)  CO2 Emissions(g/km)  \n",
       "0                           33                  196  \n",
       "1                           29                  221  \n",
       "2                           48                  136  \n",
       "3                           25                  255  \n",
       "4                           27                  244  "
      ]
     },
     "execution_count": 9,
     "metadata": {},
     "output_type": "execute_result"
    }
   ],
   "source": [
    "df=pd.read_csv('CO2 Emissions_Canada.csv')\n",
    "df.head()"
   ]
  },
  {
   "cell_type": "code",
   "execution_count": 10,
   "id": "8e17382b",
   "metadata": {},
   "outputs": [
    {
     "data": {
      "text/plain": [
       "Index(['Make', 'Model', 'Vehicle Class', 'Engine Size(L)', 'Cylinders',\n",
       "       'Transmission', 'Fuel Type', 'Fuel Consumption City (L/100 km)',\n",
       "       'Fuel Consumption Hwy (L/100 km)', 'Fuel Consumption Comb (L/100 km)',\n",
       "       'Fuel Consumption Comb (mpg)', 'CO2 Emissions(g/km)'],\n",
       "      dtype='object')"
      ]
     },
     "execution_count": 10,
     "metadata": {},
     "output_type": "execute_result"
    }
   ],
   "source": [
    "df.columns"
   ]
  },
  {
   "cell_type": "code",
   "execution_count": 11,
   "id": "71b31561",
   "metadata": {},
   "outputs": [
    {
     "name": "stdout",
     "output_type": "stream",
     "text": [
      "<class 'pandas.core.frame.DataFrame'>\n",
      "RangeIndex: 7385 entries, 0 to 7384\n",
      "Data columns (total 12 columns):\n",
      " #   Column                            Non-Null Count  Dtype  \n",
      "---  ------                            --------------  -----  \n",
      " 0   Make                              7385 non-null   object \n",
      " 1   Model                             7385 non-null   object \n",
      " 2   Vehicle Class                     7385 non-null   object \n",
      " 3   Engine Size(L)                    7385 non-null   float64\n",
      " 4   Cylinders                         7385 non-null   int64  \n",
      " 5   Transmission                      7385 non-null   object \n",
      " 6   Fuel Type                         7385 non-null   object \n",
      " 7   Fuel Consumption City (L/100 km)  7385 non-null   float64\n",
      " 8   Fuel Consumption Hwy (L/100 km)   7385 non-null   float64\n",
      " 9   Fuel Consumption Comb (L/100 km)  7385 non-null   float64\n",
      " 10  Fuel Consumption Comb (mpg)       7385 non-null   int64  \n",
      " 11  CO2 Emissions(g/km)               7385 non-null   int64  \n",
      "dtypes: float64(4), int64(3), object(5)\n",
      "memory usage: 692.5+ KB\n"
     ]
    }
   ],
   "source": [
    "df.info()"
   ]
  },
  {
   "cell_type": "code",
   "execution_count": 12,
   "id": "ceb2a1f1",
   "metadata": {},
   "outputs": [],
   "source": [
    "import seaborn as sns\n",
    "import matplotlib.pyplot as plt\n",
    "from sklearn.model_selection import train_test_split\n",
    "X=df[['Engine Size(L)']]\n",
    "Y=df[[\"CO2 Emissions(g/km)\"]]"
   ]
  },
  {
   "cell_type": "code",
   "execution_count": 13,
   "id": "12ac98e1",
   "metadata": {},
   "outputs": [
    {
     "name": "stdout",
     "output_type": "stream",
     "text": [
      "(5169, 1)\n",
      "(2216, 1)\n",
      "(5169, 1)\n",
      "(2216, 1)\n"
     ]
    }
   ],
   "source": [
    "X_train,X_test,Y_train,Y_test=train_test_split(X,Y,test_size=0.3,shuffle=True,random_state=25)\n",
    "print(X_train.shape)\n",
    "print(X_test.shape)\n",
    "print(Y_train.shape)\n",
    "print(Y_test.shape)"
   ]
  },
  {
   "cell_type": "code",
   "execution_count": 14,
   "id": "ed581b06",
   "metadata": {},
   "outputs": [
    {
     "data": {
      "text/plain": [
       "array([[218.9510571 ],\n",
       "       [244.67850377],\n",
       "       [244.67850377],\n",
       "       ...,\n",
       "       [274.08129997],\n",
       "       [274.08129997],\n",
       "       [207.92500852]])"
      ]
     },
     "execution_count": 14,
     "metadata": {},
     "output_type": "execute_result"
    }
   ],
   "source": [
    "import seaborn as sns\n",
    "import matplotlib.pyplot as plt\n",
    "from sklearn.linear_model import LinearRegression\n",
    "regr = LinearRegression()\n",
    "regr.fit(X_train, Y_train)\n",
    "regr.predict(X_test)"
   ]
  },
  {
   "cell_type": "code",
   "execution_count": 15,
   "id": "363d4da1",
   "metadata": {},
   "outputs": [
    {
     "data": {
      "image/png": "[encoded data removed]",
      "text/plain": [
       "<Figure size 432x288 with 1 Axes>"
      ]
     },
     "metadata": {
      "needs_background": "light"
     },
     "output_type": "display_data"
    }
   ],
   "source": [
    "plt.scatter(X, Y, color = 'blue') \n",
    "plt.plot(X, regr.predict(X), color = 'red') \n",
    "plt.title('Linear Regression') \n",
    "plt.xlabel('Engine size') \n",
    "plt.ylabel('CO2 emission') \n",
    "plt.show()\n"
   ]
  },
  {
   "cell_type": "code",
   "execution_count": 16,
   "id": "383379dc",
   "metadata": {},
   "outputs": [],
   "source": [
    "import warnings\n",
    "warnings.filterwarnings('ignore')"
   ]
  },
  {
   "cell_type": "code",
   "execution_count": 17,
   "id": "d68b2be3",
   "metadata": {},
   "outputs": [
    {
     "name": "stdout",
     "output_type": "stream",
     "text": [
      "[221 242 242 ... 294 294 209]\n"
     ]
    }
   ],
   "source": [
    "from sklearn.linear_model import LogisticRegression\n",
    "logistic=LogisticRegression(random_state = 0)\n",
    "#fitting the values for x and y\n",
    "logr=logistic.fit(X_train,Y_train)\n",
    "#To display the fitting function attributes such as coef,intercept etc..\n",
    "#print(logistic.coef_)\n",
    "#print(logistic.intercept_)\n",
    "#prediction from the test data\n",
    "prediction=logistic.predict(X_test)\n",
    "#print(\"Logistic Regression 20 classified values:\")\n",
    "print(prediction)"
   ]
  },
  {
   "cell_type": "code",
   "execution_count": 18,
   "id": "6c6527ca",
   "metadata": {},
   "outputs": [
    {
     "data": {
      "image/png": "[encoded data removed]",
      "text/plain": [
       "<Figure size 432x288 with 1 Axes>"
      ]
     },
     "metadata": {
      "needs_background": "light"
     },
     "output_type": "display_data"
    }
   ],
   "source": [
    "plt.scatter(X, Y, color = 'blue') \n",
    "plt.plot(X, logr.predict(X), color = 'red') \n",
    "plt.title('Logistic Regression') \n",
    "plt.xlabel('Engine size') \n",
    "plt.ylabel('CO2 emission') \n",
    "plt.show()\n"
   ]
  },
  {
   "cell_type": "code",
   "execution_count": 19,
   "id": "ce024986",
   "metadata": {},
   "outputs": [
    {
     "name": "stdout",
     "output_type": "stream",
     "text": [
      "True Negatives:  [0 0 0 ... 0 0 0]\n",
      "False Positives:  [0 0 0 ... 0 0 0]\n",
      "False Negatives:  [0 0 0 ... 0 0 0]\n",
      "True Positives:  [0 0 0 ... 0 0 0]\n"
     ]
    }
   ],
   "source": [
    "#extracting true_positives, false_positives, true_negatives, false_negatives\n",
    "tn = confusion_matrix(Y_test, prediction).ravel()\n",
    "fp= confusion_matrix(Y_test, prediction).ravel()\n",
    "fn=confusion_matrix(Y_test, prediction).ravel()\n",
    "tp=confusion_matrix(Y_test, prediction).ravel()\n",
    "print(\"True Negatives: \",tn)\n",
    "print(\"False Positives: \",fp)\n",
    "print(\"False Negatives: \",fn)\n",
    "print(\"True Positives: \",tp)\n"
   ]
  },
  {
   "cell_type": "code",
   "execution_count": 20,
   "id": "a05009d9",
   "metadata": {},
   "outputs": [
    {
     "name": "stdout",
     "output_type": "stream",
     "text": [
      "Confusion matrix\n",
      "[[0 0 0 ... 0 0 0]\n",
      " [0 0 0 ... 0 0 0]\n",
      " [0 0 0 ... 0 0 0]\n",
      " ...\n",
      " [0 0 0 ... 0 0 0]\n",
      " [0 0 0 ... 0 0 0]\n",
      " [0 0 0 ... 0 0 0]]\n"
     ]
    }
   ],
   "source": [
    "#model evaluation using classification metrics\n",
    "#confusion metrics - To display correctly classified data \n",
    "#and wrongly classified data\n",
    "confus_matrix=confusion_matrix(Y_test,prediction)\n",
    "np.set_printoptions(precision=2)\n",
    "print(\"Confusion matrix\")\n",
    "print(confus_matrix)"
   ]
  },
  {
   "cell_type": "code",
   "execution_count": 21,
   "id": "fc95cb1d",
   "metadata": {},
   "outputs": [
    {
     "name": "stdout",
     "output_type": "stream",
     "text": [
      "Accuracy\n",
      "0.03023465703971119\n"
     ]
    }
   ],
   "source": [
    "#Calculate the accuracy\n",
    "accu_score=accuracy_score(Y_test,prediction)\n",
    "print(\"Accuracy\")\n",
    "print(accu_score)\n"
   ]
  },
  {
   "cell_type": "code",
   "execution_count": 22,
   "id": "f6902f81",
   "metadata": {},
   "outputs": [
    {
     "name": "stdout",
     "output_type": "stream",
     "text": [
      "              precision    recall  f1-score   support\n",
      "\n",
      "         104       0.00      0.00      0.00         1\n",
      "         105       0.00      0.00      0.00         1\n",
      "         106       0.00      0.00      0.00         1\n",
      "         109       0.00      0.00      0.00         1\n",
      "         110       0.00      0.00      0.00         4\n",
      "         114       0.00      0.00      0.00         2\n",
      "         115       0.00      0.00      0.00         1\n",
      "         117       0.00      0.00      0.00         1\n",
      "         120       0.00      0.00      0.00         3\n",
      "         121       0.00      0.00      0.00         1\n",
      "         126       0.00      0.00      0.00         2\n",
      "         129       0.00      0.00      0.00         2\n",
      "         130       0.00      0.00      0.00         1\n",
      "         131       0.00      0.00      0.00         4\n",
      "         132       0.00      0.00      0.00         3\n",
      "         133       0.00      0.00      0.00         1\n",
      "         135       0.00      0.00      0.00         1\n",
      "         136       0.00      0.00      0.00         2\n",
      "         138       0.00      0.00      0.00         1\n",
      "         139       0.00      0.00      0.00         1\n",
      "         140       0.00      0.00      0.00         1\n",
      "         141       0.00      0.00      0.00         1\n",
      "         143       0.00      0.00      0.00         4\n",
      "         145       0.00      0.00      0.00         1\n",
      "         147       0.00      0.00      0.00         6\n",
      "         150       0.00      0.00      0.00         3\n",
      "         151       0.00      0.00      0.00         2\n",
      "         152       0.00      0.00      0.00         2\n",
      "         155       0.00      0.00      0.00         3\n",
      "         156       0.00      0.00      0.00         3\n",
      "         157       0.00      0.00      0.00         2\n",
      "         158       0.00      0.00      0.00         2\n",
      "         159       0.00      0.00      0.00         5\n",
      "         161       0.00      0.00      0.00         3\n",
      "         162       0.00      0.00      0.00         2\n",
      "         163       0.00      0.00      0.00         2\n",
      "         164       0.00      0.00      0.00         4\n",
      "         165       0.00      0.00      0.00         1\n",
      "         166       0.00      0.00      0.00         6\n",
      "         167       0.00      0.00      0.00         7\n",
      "         168       0.00      0.00      0.00         7\n",
      "         169       0.00      0.00      0.00         4\n",
      "         170       0.00      0.00      0.00         5\n",
      "         171       0.00      0.00      0.00         3\n",
      "         172       0.00      0.00      0.00         7\n",
      "         173       0.00      0.00      0.00         9\n",
      "         174       0.00      0.00      0.00         7\n",
      "         175       0.00      0.00      0.00        13\n",
      "         176       0.00      0.00      0.00        11\n",
      "         177       0.00      0.00      0.00        20\n",
      "         178       0.00      0.00      0.00         3\n",
      "         179       0.00      0.00      0.00         9\n",
      "         180       0.00      0.00      0.00         5\n",
      "         181       0.00      0.00      0.00        10\n",
      "         182       0.00      0.00      0.00         8\n",
      "         183       0.00      0.00      0.00         5\n",
      "         184       0.04      0.63      0.07        19\n",
      "         185       0.00      0.00      0.00        11\n",
      "         186       0.00      0.00      0.00        17\n",
      "         187       0.00      0.00      0.00         5\n",
      "         188       0.00      0.00      0.00        11\n",
      "         189       0.00      0.00      0.00        16\n",
      "         190       0.00      0.00      0.00        10\n",
      "         191       0.00      0.00      0.00        15\n",
      "         192       0.00      0.00      0.00        14\n",
      "         193       0.00      0.00      0.00        24\n",
      "         194       0.00      0.00      0.00        13\n",
      "         195       0.00      0.00      0.00         3\n",
      "         196       0.00      0.00      0.00        20\n",
      "         197       0.00      0.00      0.00        14\n",
      "         198       0.00      0.00      0.00        23\n",
      "         199       0.00      0.00      0.00         7\n",
      "         200       0.00      0.00      0.00        16\n",
      "         201       0.00      0.00      0.00         9\n",
      "         202       0.00      0.00      0.00        16\n",
      "         203       0.00      0.00      0.00         6\n",
      "         204       0.00      0.00      0.00         9\n",
      "         205       0.00      0.00      0.00        19\n",
      "         206       0.00      0.00      0.00        12\n",
      "         207       0.00      0.00      0.00        14\n",
      "         208       0.00      0.00      0.00        14\n",
      "         209       0.03      0.68      0.06        22\n",
      "         210       0.00      0.00      0.00        14\n",
      "         211       0.00      0.00      0.00         9\n",
      "         212       0.00      0.00      0.00        11\n",
      "         213       0.00      0.00      0.00        15\n",
      "         214       0.00      0.00      0.00        33\n",
      "         215       0.00      0.00      0.00         7\n",
      "         216       0.00      0.00      0.00        21\n",
      "         217       0.00      0.00      0.00         8\n",
      "         218       0.00      0.00      0.00        15\n",
      "         219       0.00      0.00      0.00        22\n",
      "         220       0.00      0.00      0.00        16\n",
      "         221       0.02      0.17      0.03        23\n",
      "         222       0.00      0.00      0.00        12\n",
      "         223       0.00      0.00      0.00        10\n",
      "         224       0.00      0.00      0.00        12\n",
      "         225       0.00      0.00      0.00        25\n",
      "         226       0.00      0.00      0.00        16\n",
      "         227       0.00      0.00      0.00        10\n",
      "         228       0.00      0.00      0.00        20\n",
      "         229       0.00      0.00      0.00        11\n",
      "         230       0.00      0.00      0.00        32\n",
      "         231       0.00      0.00      0.00        12\n",
      "         232       0.00      0.00      0.00        28\n",
      "         233       0.00      0.00      0.00        14\n",
      "         234       0.00      0.00      0.00         4\n",
      "         235       0.00      0.00      0.00        26\n",
      "         236       0.00      0.00      0.00         1\n",
      "         237       0.00      0.00      0.00        12\n",
      "         238       0.00      0.00      0.00        15\n",
      "         239       0.00      0.00      0.00        18\n",
      "         240       0.00      0.00      0.00        10\n",
      "         241       0.00      0.00      0.00        10\n",
      "         242       0.03      0.33      0.05        24\n",
      "         243       0.00      0.00      0.00         8\n",
      "         244       0.00      0.00      0.00        12\n",
      "         245       0.00      0.00      0.00         9\n",
      "         246       0.00      0.00      0.00        21\n",
      "         247       0.00      0.00      0.00         8\n",
      "         248       0.00      0.00      0.00        25\n",
      "         249       0.00      0.00      0.00        13\n",
      "         250       0.00      0.00      0.00        11\n",
      "         251       0.00      0.00      0.00        11\n",
      "         252       0.00      0.00      0.00         5\n",
      "         253       0.02      0.27      0.05        15\n",
      "         254       0.00      0.00      0.00        11\n",
      "         255       0.00      0.00      0.00        17\n",
      "         256       0.00      0.00      0.00        12\n",
      "         257       0.00      0.00      0.00        12\n",
      "         258       0.04      0.43      0.08        21\n",
      "         259       0.00      0.00      0.00        17\n",
      "         260       0.00      0.00      0.00        15\n",
      "         261       0.00      0.00      0.00         7\n",
      "         262       0.00      0.00      0.00        16\n",
      "         263       0.00      0.00      0.00        15\n",
      "         264       0.00      0.00      0.00         9\n",
      "         265       0.00      0.00      0.00        20\n",
      "         266       0.00      0.00      0.00         7\n",
      "         267       0.00      0.00      0.00        12\n",
      "         268       0.00      0.00      0.00         8\n",
      "         269       0.00      0.00      0.00        16\n",
      "         270       0.00      0.00      0.00         7\n",
      "         271       0.00      0.00      0.00        15\n",
      "         272       0.00      0.00      0.00         9\n",
      "         273       0.00      0.00      0.00        13\n",
      "         274       0.00      0.00      0.00        14\n",
      "         275       0.00      0.00      0.00         7\n",
      "         276       0.00      0.00      0.00        12\n",
      "         277       0.00      0.00      0.00         9\n",
      "         278       0.00      0.00      0.00        10\n",
      "         279       0.00      0.00      0.00         8\n",
      "         280       0.00      0.00      0.00        10\n",
      "         281       0.00      0.00      0.00         8\n",
      "         282       0.00      0.00      0.00         6\n",
      "         283       0.00      0.00      0.00        13\n",
      "         284       0.00      0.00      0.00        10\n",
      "         285       0.00      0.00      0.00        21\n",
      "         286       0.00      0.00      0.00        10\n",
      "         287       0.00      0.00      0.00         4\n",
      "         288       0.00      0.00      0.00         7\n",
      "         289       0.00      0.00      0.00        10\n",
      "         290       0.00      0.00      0.00        17\n",
      "         291       0.00      0.00      0.00         9\n",
      "         292       0.00      0.00      0.00        16\n",
      "         293       0.00      0.00      0.00         4\n",
      "         294       0.03      0.62      0.05        21\n",
      "         295       0.00      0.00      0.00         7\n",
      "         296       0.00      0.00      0.00        12\n",
      "         297       0.00      0.00      0.00         7\n",
      "         298       0.00      0.00      0.00        10\n",
      "         299       0.00      0.00      0.00         9\n",
      "         300       0.00      0.00      0.00        11\n",
      "         301       0.00      0.00      0.00         8\n",
      "         302       0.00      0.00      0.00        14\n",
      "         303       0.00      0.00      0.00         8\n",
      "         304       0.00      0.00      0.00        12\n",
      "         305       0.00      0.00      0.00        14\n",
      "         306       0.00      0.00      0.00         9\n",
      "         307       0.00      0.00      0.00         8\n",
      "         308       0.00      0.00      0.00         9\n",
      "         309       0.00      0.00      0.00         1\n",
      "         310       0.00      0.00      0.00         9\n",
      "         311       0.00      0.00      0.00         5\n",
      "         312       0.00      0.00      0.00        15\n",
      "         313       0.00      0.00      0.00        11\n",
      "         314       0.00      0.00      0.00         8\n",
      "         315       0.00      0.00      0.00         8\n",
      "         316       0.00      0.00      0.00         1\n",
      "         317       0.00      0.00      0.00        16\n",
      "         319       0.00      0.00      0.00         4\n",
      "         320       0.00      0.00      0.00         4\n",
      "         321       0.00      0.00      0.00         8\n",
      "         322       0.00      0.00      0.00        10\n",
      "         323       0.00      0.00      0.00         4\n",
      "         324       0.00      0.00      0.00        14\n",
      "         325       0.00      0.00      0.00        10\n",
      "         326       0.00      0.00      0.00         6\n",
      "         327       0.00      0.00      0.00         9\n",
      "         328       0.00      0.00      0.00         3\n",
      "         329       0.00      0.00      0.00        13\n",
      "         330       0.00      0.00      0.00         2\n",
      "         331       0.00      0.00      0.00         7\n",
      "         332       0.00      0.00      0.00         3\n",
      "         333       0.00      0.00      0.00         2\n",
      "         334       0.00      0.00      0.00         5\n",
      "         335       0.00      0.00      0.00         1\n",
      "         336       0.00      0.00      0.00         5\n",
      "         337       0.00      0.00      0.00         2\n",
      "         338       0.00      0.00      0.00        10\n",
      "         339       0.00      0.00      0.00         9\n",
      "         340       0.00      0.00      0.00         5\n",
      "         341       0.00      0.00      0.00         4\n",
      "         342       0.00      0.00      0.00         2\n",
      "         343       0.00      0.00      0.00         6\n",
      "         344       0.00      0.00      0.00         9\n",
      "         346       0.00      0.00      0.00         3\n",
      "         347       0.00      0.00      0.00        10\n",
      "         349       0.00      0.00      0.00         2\n",
      "         350       0.00      0.00      0.00         2\n",
      "         351       0.00      0.00      0.00         1\n",
      "         352       0.00      0.00      0.00         3\n",
      "         354       0.00      0.00      0.00         7\n",
      "         355       0.00      0.00      0.00         7\n",
      "         356       0.00      0.00      0.00         3\n",
      "         357       0.00      0.00      0.00         1\n",
      "         359       0.00      0.00      0.00         4\n",
      "         360       0.00      0.00      0.00         1\n",
      "         361       0.00      0.00      0.00         2\n",
      "         362       0.00      0.00      0.00         3\n",
      "         363       0.00      0.00      0.00         2\n",
      "         365       0.00      0.00      0.00         3\n",
      "         366       0.00      0.00      0.00         1\n",
      "         368       0.00      0.00      0.00         2\n",
      "         370       0.00      0.00      0.00         5\n",
      "         371       0.00      0.00      0.00         2\n",
      "         375       0.00      0.00      0.00         2\n",
      "         379       0.00      0.00      0.00         1\n",
      "         380       0.00      0.00      0.00         4\n",
      "         382       0.05      0.25      0.09         8\n",
      "         384       0.00      0.00      0.00         4\n",
      "         385       0.00      0.00      0.00         1\n",
      "         386       0.00      0.00      0.00         3\n",
      "         387       0.00      0.00      0.00         2\n",
      "         388       0.00      0.00      0.00         3\n",
      "         393       0.00      0.00      0.00         2\n",
      "         396       0.00      0.00      0.00         1\n",
      "         397       0.00      0.00      0.00         1\n",
      "         398       0.00      0.00      0.00         1\n",
      "         400       0.00      0.00      0.00         3\n",
      "         401       0.00      0.00      0.00         1\n",
      "         405       0.00      0.00      0.00         1\n",
      "         409       0.00      0.00      0.00         1\n",
      "         410       0.00      0.00      0.00         1\n",
      "         414       0.00      0.00      0.00         2\n",
      "         417       0.00      0.00      0.00         1\n",
      "         419       0.00      0.00      0.00         4\n",
      "         420       0.00      0.00      0.00         1\n",
      "         430       0.00      0.00      0.00         1\n",
      "         432       0.00      0.00      0.00         2\n",
      "         435       0.00      0.00      0.00         2\n",
      "         437       0.00      0.00      0.00         2\n",
      "         438       0.00      0.00      0.00         1\n",
      "         441       0.00      0.00      0.00         1\n",
      "         445       0.00      0.00      0.00         1\n",
      "         454       0.00      0.00      0.00         2\n",
      "         465       0.00      0.00      0.00         2\n",
      "         488       0.00      0.00      0.00         1\n",
      "         493       0.00      0.00      0.00         1\n",
      "         522       0.00      0.00      0.00         1\n",
      "\n",
      "    accuracy                           0.03      2216\n",
      "   macro avg       0.00      0.01      0.00      2216\n",
      "weighted avg       0.00      0.03      0.00      2216\n",
      "\n"
     ]
    }
   ],
   "source": [
    "from sklearn.metrics import  classification_report\n",
    "print(classification_report(Y_test,prediction))"
   ]
  },
  {
   "cell_type": "code",
   "execution_count": 23,
   "id": "e66a40f3",
   "metadata": {},
   "outputs": [],
   "source": [
    "df.rename(columns={'CO2 Emissions(g/km)' : 'CO2_emission'}, inplace=True)\n",
    "df.rename(columns={'Engine Size(L)' : 'Enginesize'}, inplace=True)\n",
    "df.rename(columns={'Fuel Consumption City (L/100 km)' : 'fuelconsumptioncity'}, inplace=True)\n",
    "df.rename(columns={'Fuel Consumption Hwy (L/100 km)' : 'fuelconsumptionhwy'}, inplace=True)\n",
    "df.rename(columns={'Fuel Consumption Comb (L/100 km)' : 'fuelconsumptioncomb'}, inplace=True)\n",
    "df.rename(columns={'Fuel Consumption Comb (mpg)' : 'fuelconsumptioncombmpg'}, inplace=True)"
   ]
  },
  {
   "cell_type": "code",
   "execution_count": 24,
   "id": "81f6b372",
   "metadata": {},
   "outputs": [
    {
     "name": "stdout",
     "output_type": "stream",
     "text": [
      "[221 242 242 ... 294 294 221]\n"
     ]
    }
   ],
   "source": [
    "from sklearn.linear_model import LogisticRegression\n",
    "logistic=LogisticRegression(multi_class='ovr',solver='liblinear',random_state = 0)\n",
    "#fitting the values for x and y\n",
    "logr=logistic.fit(X_train,Y_train)\n",
    "#To display the fitting function attributes such as coef,intercept etc..\n",
    "#print(logistic.coef_)\n",
    "#print(logistic.intercept_)\n",
    "#prediction from the test data\n",
    "prediction=logistic.predict(X_test)\n",
    "#print(\"Logistic Regression 20 classified values:\")\n",
    "print(prediction)\n"
   ]
  },
  {
   "cell_type": "code",
   "execution_count": 25,
   "id": "cf04482d",
   "metadata": {},
   "outputs": [
    {
     "data": {
      "image/png": "[encoded data removed]",
      "text/plain": [
       "<Figure size 432x288 with 1 Axes>"
      ]
     },
     "metadata": {
      "needs_background": "light"
     },
     "output_type": "display_data"
    }
   ],
   "source": [
    "plt.scatter(X, Y, color = 'blue') \n",
    "plt.plot(X, logr.predict(X), color = 'red') \n",
    "plt.title('Logistic Regression') \n",
    "plt.xlabel('Engine size') \n",
    "plt.ylabel('CO2 emission') \n",
    "plt.show()\n"
   ]
  },
  {
   "cell_type": "code",
   "execution_count": 26,
   "id": "30dab160",
   "metadata": {},
   "outputs": [
    {
     "name": "stdout",
     "output_type": "stream",
     "text": [
      "True Negatives:  [0 0 0 ... 0 0 0]\n",
      "False Positives:  [0 0 0 ... 0 0 0]\n",
      "False Negatives:  [0 0 0 ... 0 0 0]\n",
      "True Positives:  [0 0 0 ... 0 0 0]\n"
     ]
    }
   ],
   "source": [
    "#extracting true_positives, false_positives, true_negatives, false_negatives\n",
    "tn = confusion_matrix(Y_test, prediction).ravel()\n",
    "fp= confusion_matrix(Y_test, prediction).ravel()\n",
    "fn=confusion_matrix(Y_test, prediction).ravel()\n",
    "tp=confusion_matrix(Y_test, prediction).ravel()\n",
    "print(\"True Negatives: \",tn)\n",
    "print(\"False Positives: \",fp)\n",
    "print(\"False Negatives: \",fn)\n",
    "print(\"True Positives: \",tp)"
   ]
  },
  {
   "cell_type": "code",
   "execution_count": 27,
   "id": "770d791c",
   "metadata": {},
   "outputs": [
    {
     "name": "stdout",
     "output_type": "stream",
     "text": [
      "Confusion matrix\n",
      "[[0 0 0 ... 0 0 0]\n",
      " [0 0 0 ... 0 0 0]\n",
      " [0 0 0 ... 0 0 0]\n",
      " ...\n",
      " [0 0 0 ... 0 0 0]\n",
      " [0 0 0 ... 0 0 0]\n",
      " [0 0 0 ... 0 0 0]]\n"
     ]
    }
   ],
   "source": [
    "#model evaluation using classification metrics\n",
    "#confusion metrics - To display correctly classified data \n",
    "#and wrongly classified data\n",
    "confus_matrix=confusion_matrix(Y_test,prediction)\n",
    "np.set_printoptions(precision=2)\n",
    "print(\"Confusion matrix\")\n",
    "print(confus_matrix)"
   ]
  },
  {
   "cell_type": "code",
   "execution_count": 28,
   "id": "eb308ce9",
   "metadata": {},
   "outputs": [
    {
     "name": "stdout",
     "output_type": "stream",
     "text": [
      "Accuracy\n",
      "0.02527075812274368\n"
     ]
    }
   ],
   "source": [
    "#Calculate the accuracy\n",
    "accu_score=accuracy_score(Y_test,prediction)\n",
    "print(\"Accuracy\")\n",
    "print(accu_score)\n"
   ]
  },
  {
   "cell_type": "code",
   "execution_count": 29,
   "id": "a98a883f",
   "metadata": {},
   "outputs": [
    {
     "name": "stdout",
     "output_type": "stream",
     "text": [
      "              precision    recall  f1-score   support\n",
      "\n",
      "         104       0.00      0.00      0.00         1\n",
      "         105       0.00      0.00      0.00         1\n",
      "         106       0.00      0.00      0.00         1\n",
      "         109       0.00      0.00      0.00         1\n",
      "         110       0.00      0.00      0.00         4\n",
      "         114       0.00      0.00      0.00         2\n",
      "         115       0.00      0.00      0.00         1\n",
      "         117       0.00      0.00      0.00         1\n",
      "         120       0.00      0.00      0.00         3\n",
      "         121       0.00      0.00      0.00         1\n",
      "         126       0.00      0.00      0.00         2\n",
      "         129       0.00      0.00      0.00         2\n",
      "         130       0.00      0.00      0.00         1\n",
      "         131       0.00      0.00      0.00         4\n",
      "         132       0.00      0.00      0.00         3\n",
      "         133       0.00      0.00      0.00         1\n",
      "         135       0.00      0.00      0.00         1\n",
      "         136       0.00      0.00      0.00         2\n",
      "         138       0.00      0.00      0.00         1\n",
      "         139       0.00      0.00      0.00         1\n",
      "         140       0.00      0.00      0.00         1\n",
      "         141       0.00      0.00      0.00         1\n",
      "         143       0.00      0.00      0.00         4\n",
      "         145       0.00      0.00      0.00         1\n",
      "         147       0.00      0.00      0.00         6\n",
      "         150       0.00      0.00      0.00         3\n",
      "         151       0.00      0.00      0.00         2\n",
      "         152       0.00      0.00      0.00         2\n",
      "         155       0.00      0.00      0.00         3\n",
      "         156       0.00      0.00      0.00         3\n",
      "         157       0.00      0.00      0.00         2\n",
      "         158       0.00      0.00      0.00         2\n",
      "         159       0.00      0.00      0.00         5\n",
      "         161       0.00      0.00      0.00         3\n",
      "         162       0.00      0.00      0.00         2\n",
      "         163       0.00      0.00      0.00         2\n",
      "         164       0.00      0.00      0.00         4\n",
      "         165       0.00      0.00      0.00         1\n",
      "         166       0.00      0.00      0.00         6\n",
      "         167       0.00      0.00      0.00         7\n",
      "         168       0.00      0.00      0.00         7\n",
      "         169       0.00      0.00      0.00         4\n",
      "         170       0.00      0.00      0.00         5\n",
      "         171       0.00      0.00      0.00         3\n",
      "         172       0.00      0.00      0.00         7\n",
      "         173       0.00      0.00      0.00         9\n",
      "         174       0.00      0.00      0.00         7\n",
      "         175       0.00      0.00      0.00        13\n",
      "         176       0.00      0.00      0.00        11\n",
      "         177       0.00      0.00      0.00        20\n",
      "         178       0.00      0.00      0.00         3\n",
      "         179       0.00      0.00      0.00         9\n",
      "         180       0.00      0.00      0.00         5\n",
      "         181       0.00      0.00      0.00        10\n",
      "         182       0.00      0.00      0.00         8\n",
      "         183       0.00      0.00      0.00         5\n",
      "         184       0.05      0.58      0.08        19\n",
      "         185       0.00      0.00      0.00        11\n",
      "         186       0.00      0.00      0.00        17\n",
      "         187       0.00      0.00      0.00         5\n",
      "         188       0.00      0.00      0.00        11\n",
      "         189       0.00      0.00      0.00        16\n",
      "         190       0.00      0.00      0.00        10\n",
      "         191       0.00      0.00      0.00        15\n",
      "         192       0.00      0.00      0.00        14\n",
      "         193       0.00      0.00      0.00        24\n",
      "         194       0.00      0.00      0.00        13\n",
      "         195       0.00      0.00      0.00         3\n",
      "         196       0.00      0.00      0.00        20\n",
      "         197       0.00      0.00      0.00        14\n",
      "         198       0.00      0.00      0.00        23\n",
      "         199       0.00      0.00      0.00         7\n",
      "         200       0.00      0.00      0.00        16\n",
      "         201       0.00      0.00      0.00         9\n",
      "         202       0.00      0.00      0.00        16\n",
      "         203       0.00      0.00      0.00         6\n",
      "         204       0.00      0.00      0.00         9\n",
      "         205       0.00      0.00      0.00        19\n",
      "         206       0.00      0.00      0.00        12\n",
      "         207       0.00      0.00      0.00        14\n",
      "         208       0.00      0.00      0.00        14\n",
      "         209       0.00      0.00      0.00        22\n",
      "         210       0.00      0.00      0.00        14\n",
      "         211       0.00      0.00      0.00         9\n",
      "         212       0.00      0.00      0.00        11\n",
      "         213       0.00      0.00      0.00        15\n",
      "         214       0.00      0.00      0.00        33\n",
      "         215       0.00      0.00      0.00         7\n",
      "         216       0.00      0.00      0.00        21\n",
      "         217       0.00      0.00      0.00         8\n",
      "         218       0.00      0.00      0.00        15\n",
      "         219       0.00      0.00      0.00        22\n",
      "         220       0.00      0.00      0.00        16\n",
      "         221       0.03      0.78      0.05        23\n",
      "         222       0.00      0.00      0.00        12\n",
      "         223       0.00      0.00      0.00        10\n",
      "         224       0.00      0.00      0.00        12\n",
      "         225       0.00      0.00      0.00        25\n",
      "         226       0.00      0.00      0.00        16\n",
      "         227       0.00      0.00      0.00        10\n",
      "         228       0.00      0.00      0.00        20\n",
      "         229       0.00      0.00      0.00        11\n",
      "         230       0.00      0.00      0.00        32\n",
      "         231       0.00      0.00      0.00        12\n",
      "         232       0.00      0.00      0.00        28\n",
      "         233       0.00      0.00      0.00        14\n",
      "         234       0.00      0.00      0.00         4\n",
      "         235       0.00      0.00      0.00        26\n",
      "         236       0.00      0.00      0.00         1\n",
      "         237       0.00      0.00      0.00        12\n",
      "         238       0.00      0.00      0.00        15\n",
      "         239       0.00      0.00      0.00        18\n",
      "         240       0.00      0.00      0.00        10\n",
      "         241       0.00      0.00      0.00        10\n",
      "         242       0.02      0.38      0.04        24\n",
      "         243       0.00      0.00      0.00         8\n",
      "         244       0.00      0.00      0.00        12\n",
      "         245       0.00      0.00      0.00         9\n",
      "         246       0.00      0.00      0.00        21\n",
      "         247       0.00      0.00      0.00         8\n",
      "         248       0.00      0.00      0.00        25\n",
      "         249       0.00      0.00      0.00        13\n",
      "         250       0.00      0.00      0.00        11\n",
      "         251       0.00      0.00      0.00        11\n",
      "         252       0.00      0.00      0.00         5\n",
      "         253       0.00      0.00      0.00        15\n",
      "         254       0.00      0.00      0.00        11\n",
      "         255       0.00      0.00      0.00        17\n",
      "         256       0.00      0.00      0.00        12\n",
      "         257       0.00      0.00      0.00        12\n",
      "         258       0.00      0.00      0.00        21\n",
      "         259       0.00      0.00      0.00        17\n",
      "         260       0.00      0.00      0.00        15\n",
      "         261       0.00      0.00      0.00         7\n",
      "         262       0.00      0.00      0.00        16\n",
      "         263       0.00      0.00      0.00        15\n",
      "         264       0.00      0.00      0.00         9\n",
      "         265       0.00      0.00      0.00        20\n",
      "         266       0.00      0.00      0.00         7\n",
      "         267       0.00      0.00      0.00        12\n",
      "         268       0.00      0.00      0.00         8\n",
      "         269       0.00      0.00      0.00        16\n",
      "         270       0.00      0.00      0.00         7\n",
      "         271       0.00      0.00      0.00        15\n",
      "         272       0.00      0.00      0.00         9\n",
      "         273       0.00      0.00      0.00        13\n",
      "         274       0.00      0.00      0.00        14\n",
      "         275       0.00      0.00      0.00         7\n",
      "         276       0.00      0.00      0.00        12\n",
      "         277       0.00      0.00      0.00         9\n",
      "         278       0.00      0.00      0.00        10\n",
      "         279       0.00      0.00      0.00         8\n",
      "         280       0.00      0.00      0.00        10\n",
      "         281       0.00      0.00      0.00         8\n",
      "         282       0.00      0.00      0.00         6\n",
      "         283       0.00      0.00      0.00        13\n",
      "         284       0.00      0.00      0.00        10\n",
      "         285       0.00      0.00      0.00        21\n",
      "         286       0.00      0.00      0.00        10\n",
      "         287       0.00      0.00      0.00         4\n",
      "         288       0.00      0.00      0.00         7\n",
      "         289       0.00      0.00      0.00        10\n",
      "         290       0.00      0.00      0.00        17\n",
      "         291       0.00      0.00      0.00         9\n",
      "         292       0.00      0.00      0.00        16\n",
      "         293       0.00      0.00      0.00         4\n",
      "         294       0.02      0.86      0.04        21\n",
      "         295       0.00      0.00      0.00         7\n",
      "         296       0.00      0.00      0.00        12\n",
      "         297       0.00      0.00      0.00         7\n",
      "         298       0.00      0.00      0.00        10\n",
      "         299       0.00      0.00      0.00         9\n",
      "         300       0.00      0.00      0.00        11\n",
      "         301       0.00      0.00      0.00         8\n",
      "         302       0.00      0.00      0.00        14\n",
      "         303       0.00      0.00      0.00         8\n",
      "         304       0.00      0.00      0.00        12\n",
      "         305       0.00      0.00      0.00        14\n",
      "         306       0.00      0.00      0.00         9\n",
      "         307       0.00      0.00      0.00         8\n",
      "         308       0.00      0.00      0.00         9\n",
      "         309       0.00      0.00      0.00         1\n",
      "         310       0.00      0.00      0.00         9\n",
      "         311       0.00      0.00      0.00         5\n",
      "         312       0.00      0.00      0.00        15\n",
      "         313       0.00      0.00      0.00        11\n",
      "         314       0.00      0.00      0.00         8\n",
      "         315       0.00      0.00      0.00         8\n",
      "         316       0.00      0.00      0.00         1\n",
      "         317       0.00      0.00      0.00        16\n",
      "         319       0.00      0.00      0.00         4\n",
      "         320       0.00      0.00      0.00         4\n",
      "         321       0.00      0.00      0.00         8\n",
      "         322       0.00      0.00      0.00        10\n",
      "         323       0.00      0.00      0.00         4\n",
      "         324       0.00      0.00      0.00        14\n",
      "         325       0.00      0.00      0.00        10\n",
      "         326       0.00      0.00      0.00         6\n",
      "         327       0.00      0.00      0.00         9\n",
      "         328       0.00      0.00      0.00         3\n",
      "         329       0.00      0.00      0.00        13\n",
      "         330       0.00      0.00      0.00         2\n",
      "         331       0.00      0.00      0.00         7\n",
      "         332       0.00      0.00      0.00         3\n",
      "         333       0.00      0.00      0.00         2\n",
      "         334       0.00      0.00      0.00         5\n",
      "         335       0.00      0.00      0.00         1\n",
      "         336       0.00      0.00      0.00         5\n",
      "         337       0.00      0.00      0.00         2\n",
      "         338       0.00      0.00      0.00        10\n",
      "         339       0.00      0.00      0.00         9\n",
      "         340       0.00      0.00      0.00         5\n",
      "         341       0.00      0.00      0.00         4\n",
      "         342       0.00      0.00      0.00         2\n",
      "         343       0.00      0.00      0.00         6\n",
      "         344       0.00      0.00      0.00         9\n",
      "         346       0.00      0.00      0.00         3\n",
      "         347       0.00      0.00      0.00        10\n",
      "         349       0.00      0.00      0.00         2\n",
      "         350       0.00      0.00      0.00         2\n",
      "         351       0.00      0.00      0.00         1\n",
      "         352       0.00      0.00      0.00         3\n",
      "         354       0.00      0.00      0.00         7\n",
      "         355       0.00      0.00      0.00         7\n",
      "         356       0.00      0.00      0.00         3\n",
      "         357       0.00      0.00      0.00         1\n",
      "         359       0.00      0.00      0.00         4\n",
      "         360       0.00      0.00      0.00         1\n",
      "         361       0.00      0.00      0.00         2\n",
      "         362       0.00      0.00      0.00         3\n",
      "         363       0.00      0.00      0.00         2\n",
      "         365       0.00      0.00      0.00         3\n",
      "         366       0.00      0.00      0.00         1\n",
      "         368       0.00      0.00      0.00         2\n",
      "         370       0.00      0.00      0.00         5\n",
      "         371       0.00      0.00      0.00         2\n",
      "         375       0.00      0.00      0.00         2\n",
      "         379       0.00      0.00      0.00         1\n",
      "         380       0.00      0.00      0.00         4\n",
      "         382       0.00      0.00      0.00         8\n",
      "         384       0.00      0.00      0.00         4\n",
      "         385       0.00      0.00      0.00         1\n",
      "         386       0.00      0.00      0.00         3\n",
      "         387       0.00      0.00      0.00         2\n",
      "         388       0.00      0.00      0.00         3\n",
      "         393       0.00      0.00      0.00         2\n",
      "         396       0.00      0.00      0.00         1\n",
      "         397       0.00      0.00      0.00         1\n",
      "         398       0.00      0.00      0.00         1\n",
      "         400       0.00      0.00      0.00         3\n",
      "         401       0.00      0.00      0.00         1\n",
      "         405       0.00      0.00      0.00         1\n",
      "         409       0.00      0.00      0.00         1\n",
      "         410       0.00      0.00      0.00         1\n",
      "         414       0.00      0.00      0.00         2\n",
      "         417       0.00      0.00      0.00         1\n",
      "         419       0.00      0.00      0.00         4\n",
      "         420       0.00      0.00      0.00         1\n",
      "         430       0.00      0.00      0.00         1\n",
      "         432       0.00      0.00      0.00         2\n",
      "         435       0.00      0.00      0.00         2\n",
      "         437       0.00      0.00      0.00         2\n",
      "         438       0.00      0.00      0.00         1\n",
      "         441       0.00      0.00      0.00         1\n",
      "         445       0.00      0.00      0.00         1\n",
      "         454       0.00      0.00      0.00         2\n",
      "         465       0.00      0.00      0.00         2\n",
      "         488       0.00      0.00      0.00         1\n",
      "         493       0.00      0.00      0.00         1\n",
      "         522       0.00      0.00      0.00         1\n",
      "\n",
      "    accuracy                           0.03      2216\n",
      "   macro avg       0.00      0.01      0.00      2216\n",
      "weighted avg       0.00      0.03      0.00      2216\n",
      "\n"
     ]
    }
   ],
   "source": [
    "from sklearn.metrics import  classification_report\n",
    "print(classification_report(Y_test,prediction))"
   ]
  },
  {
   "cell_type": "code",
   "execution_count": 30,
   "id": "193bd92b",
   "metadata": {},
   "outputs": [
    {
     "data": {
      "image/png": "[encoded data removed]",
      "text/plain": [
       "<Figure size 432x288 with 1 Axes>"
      ]
     },
     "metadata": {
      "needs_background": "light"
     },
     "output_type": "display_data"
    }
   ],
   "source": [
    "import seaborn as sns\n",
    "import matplotlib.pyplot as plt\n",
    "sns.boxplot(x=df.CO2_emission)\n",
    "plt.title('CO2 Emissions boxplot', fontsize = 20)\n",
    "plt.show()\n"
   ]
  },
  {
   "cell_type": "code",
   "execution_count": 31,
   "id": "dccb2ba6",
   "metadata": {},
   "outputs": [
    {
     "data": {
      "text/plain": [
       "CO2_emission              1.000000\n",
       "fuelconsumptioncity       0.919592\n",
       "fuelconsumptioncomb       0.918052\n",
       "fuelconsumptionhwy        0.883536\n",
       "Enginesize                0.851145\n",
       "Cylinders                 0.832644\n",
       "fuelconsumptioncombmpg   -0.907426\n",
       "Name: CO2_emission, dtype: float64"
      ]
     },
     "execution_count": 31,
     "metadata": {},
     "output_type": "execute_result"
    }
   ],
   "source": [
    "df.corr().CO2_emission.sort_values()[::-1]"
   ]
  },
  {
   "cell_type": "code",
   "execution_count": 32,
   "id": "a2d422d5",
   "metadata": {},
   "outputs": [
    {
     "data": {
      "text/plain": [
       "5931     96\n",
       "6950     96\n",
       "3824     96\n",
       "4900     96\n",
       "6949     99\n",
       "       ... \n",
       "6046    493\n",
       "7059    493\n",
       "5575    522\n",
       "6640    522\n",
       "4509    522\n",
       "Name: CO2_emission, Length: 7385, dtype: int64"
      ]
     },
     "execution_count": 32,
     "metadata": {},
     "output_type": "execute_result"
    }
   ],
   "source": [
    "df['CO2_emission'].sort_values()"
   ]
  },
  {
   "cell_type": "code",
   "execution_count": 33,
   "id": "0667a8f0",
   "metadata": {},
   "outputs": [
    {
     "data": {
      "text/plain": [
       "<AxesSubplot:xlabel='CO2_emission', ylabel='Density'>"
      ]
     },
     "execution_count": 33,
     "metadata": {},
     "output_type": "execute_result"
    },
    {
     "data": {
      "image/png": "[encoded data removed]",
      "text/plain": [
       "<Figure size 432x288 with 1 Axes>"
      ]
     },
     "metadata": {
      "needs_background": "light"
     },
     "output_type": "display_data"
    }
   ],
   "source": [
    "import seaborn as sns\n",
    "sns.distplot(df['CO2_emission'])"
   ]
  },
  {
   "cell_type": "code",
   "execution_count": 34,
   "id": "dce1b98a",
   "metadata": {},
   "outputs": [
    {
     "name": "stdout",
     "output_type": "stream",
     "text": [
      "75.04666053038923\n",
      "426.1227368968281\n"
     ]
    }
   ],
   "source": [
    "lower_limit = df['CO2_emission'].mean() - 3*df['CO2_emission'].std()\n",
    "print(lower_limit)\n",
    "upper_limit = df['CO2_emission'].mean() + 3*df['CO2_emission'].std()\n",
    "print(upper_limit)"
   ]
  },
  {
   "cell_type": "code",
   "execution_count": 35,
   "id": "72d408c3",
   "metadata": {},
   "outputs": [
    {
     "name": "stdout",
     "output_type": "stream",
     "text": [
      "45\n"
     ]
    }
   ],
   "source": [
    "#Detecting Outliers\n",
    "Price_Outliers = df[(df['CO2_emission']>upper_limit) | (df['CO2_emission']<lower_limit)]\n",
    "print(len(Price_Outliers))"
   ]
  },
  {
   "cell_type": "code",
   "execution_count": 36,
   "id": "10011f2a",
   "metadata": {},
   "outputs": [
    {
     "data": {
      "text/plain": [
       "(7340, 12)"
      ]
     },
     "execution_count": 36,
     "metadata": {},
     "output_type": "execute_result"
    }
   ],
   "source": [
    "# Creating new Dataframe by removing Outliers\n",
    "df_no_co2emission_Outliers = df[(df['CO2_emission']>lower_limit) & (df['CO2_emission']<upper_limit)]\n",
    "df_no_co2emission_Outliers.shape"
   ]
  },
  {
   "cell_type": "code",
   "execution_count": 37,
   "id": "48d72022",
   "metadata": {},
   "outputs": [],
   "source": [
    "df1=df.copy()"
   ]
  },
  {
   "cell_type": "code",
   "execution_count": 38,
   "id": "ac565682",
   "metadata": {},
   "outputs": [
    {
     "data": {
      "text/plain": [
       "count    7385.000000\n",
       "mean      250.584699\n",
       "std        58.512679\n",
       "min        96.000000\n",
       "25%       208.000000\n",
       "50%       246.000000\n",
       "75%       288.000000\n",
       "max       522.000000\n",
       "Name: CO2_emission, dtype: float64"
      ]
     },
     "execution_count": 38,
     "metadata": {},
     "output_type": "execute_result"
    }
   ],
   "source": [
    "df1['CO2_emission'].describe()"
   ]
  },
  {
   "cell_type": "code",
   "execution_count": 39,
   "id": "d29d9b69",
   "metadata": {},
   "outputs": [
    {
     "data": {
      "text/plain": [
       "<AxesSubplot:xlabel='CO2_emission', ylabel='Density'>"
      ]
     },
     "execution_count": 39,
     "metadata": {},
     "output_type": "execute_result"
    },
    {
     "data": {
      "image/png": "[encoded data removed]",
      "text/plain": [
       "<Figure size 432x288 with 1 Axes>"
      ]
     },
     "metadata": {
      "needs_background": "light"
     },
     "output_type": "display_data"
    }
   ],
   "source": [
    "# Before imputing Outliers\n",
    "import seaborn as sns\n",
    "sns.distplot(df1['CO2_emission'])"
   ]
  },
  {
   "cell_type": "code",
   "execution_count": 40,
   "id": "8123cf2c",
   "metadata": {},
   "outputs": [
    {
     "data": {
      "text/plain": [
       "count    7385.000000\n",
       "mean      250.401696\n",
       "std        57.879119\n",
       "min        96.000000\n",
       "25%       208.000000\n",
       "50%       246.000000\n",
       "75%       288.000000\n",
       "max       426.122737\n",
       "Name: CO2_emission, dtype: float64"
      ]
     },
     "execution_count": 40,
     "metadata": {},
     "output_type": "execute_result"
    }
   ],
   "source": [
    "# Imputing 'Price' Outliers\n",
    "\n",
    "df1.loc[df1.CO2_emission>upper_limit,'CO2_emission']=upper_limit\n",
    "df1.loc[df1.CO2_emission<lower_limit,'CO2_emission']=lower_limit\n",
    "df1['CO2_emission'].describe()\n",
    "#df1['Price'].unique()\n",
    "#df1 = df1[(df1['Price']>upper_limit) | (df1['Price']<lower_limit)]\n",
    "#print(len(df1))"
   ]
  },
  {
   "cell_type": "code",
   "execution_count": 41,
   "id": "8f266912",
   "metadata": {},
   "outputs": [
    {
     "data": {
      "text/plain": [
       "<AxesSubplot:xlabel='CO2_emission', ylabel='Density'>"
      ]
     },
     "execution_count": 41,
     "metadata": {},
     "output_type": "execute_result"
    },
    {
     "data": {
      "image/png": "[encoded data removed]",
      "text/plain": [
       "<Figure size 432x288 with 1 Axes>"
      ]
     },
     "metadata": {
      "needs_background": "light"
     },
     "output_type": "display_data"
    }
   ],
   "source": [
    "# After imputing Outliers\n",
    "import seaborn as sns\n",
    "sns.distplot(df1['CO2_emission'])"
   ]
  },
  {
   "cell_type": "code",
   "execution_count": 42,
   "id": "0b0d00bc",
   "metadata": {},
   "outputs": [
    {
     "data": {
      "text/plain": [
       "count    7385.000000\n",
       "mean      250.401696\n",
       "std        57.879119\n",
       "min        96.000000\n",
       "25%       208.000000\n",
       "50%       246.000000\n",
       "75%       288.000000\n",
       "max       426.122737\n",
       "Name: CO2_emission, dtype: float64"
      ]
     },
     "execution_count": 42,
     "metadata": {},
     "output_type": "execute_result"
    }
   ],
   "source": [
    "df1['CO2_emission'].describe()"
   ]
  },
  {
   "cell_type": "code",
   "execution_count": 43,
   "id": "b8ef9ac7",
   "metadata": {},
   "outputs": [
    {
     "name": "stdout",
     "output_type": "stream",
     "text": [
      "208.0 288.0 80.0\n",
      "88.0\n",
      "408.0\n"
     ]
    }
   ],
   "source": [
    "q1 = df['CO2_emission'].quantile(0.25)\n",
    "q3 = df['CO2_emission'].quantile(0.75)\n",
    "IQR = q3 - q1\n",
    "print(q1,q3,IQR)\n",
    "lower_limit = q1 - 1.5 * IQR\n",
    "upper_limit = q3 + 1.5 * IQR\n",
    "print(lower_limit)\n",
    "print(upper_limit)"
   ]
  },
  {
   "cell_type": "code",
   "execution_count": 44,
   "id": "d19a588a",
   "metadata": {},
   "outputs": [
    {
     "name": "stdout",
     "output_type": "stream",
     "text": [
      "80\n"
     ]
    }
   ],
   "source": [
    "CO2_Outliers = df[(df['CO2_emission']>upper_limit) | (df['CO2_emission']<lower_limit)]\n",
    "print(len(CO2_Outliers))"
   ]
  },
  {
   "cell_type": "code",
   "execution_count": 45,
   "id": "fd90571f",
   "metadata": {},
   "outputs": [
    {
     "data": {
      "text/plain": [
       "count    7385.000000\n",
       "mean      250.254976\n",
       "std        57.457501\n",
       "min        96.000000\n",
       "25%       208.000000\n",
       "50%       246.000000\n",
       "75%       288.000000\n",
       "max       408.000000\n",
       "Name: CO2_emission, dtype: float64"
      ]
     },
     "execution_count": 45,
     "metadata": {},
     "output_type": "execute_result"
    }
   ],
   "source": [
    "# Imputing 'CC' Outliers\n",
    "\n",
    "df1.loc[df1.CO2_emission>upper_limit,'CO2_emission']=upper_limit\n",
    "df1.loc[df1.CO2_emission<lower_limit,'CO2_emission']=lower_limit\n",
    "df1['CO2_emission'].describe()\n",
    "#df1 = df1[(df1['CC']>upper_limit) | (df1['CC']<lower_limit)]\n",
    "#print(len(df1))"
   ]
  },
  {
   "cell_type": "code",
   "execution_count": 46,
   "id": "53d168fe",
   "metadata": {},
   "outputs": [
    {
     "data": {
      "text/plain": [
       "count    7385.000000\n",
       "mean      250.254976\n",
       "std        57.457501\n",
       "min        96.000000\n",
       "25%       208.000000\n",
       "50%       246.000000\n",
       "75%       288.000000\n",
       "max       408.000000\n",
       "Name: CO2_emission, dtype: float64"
      ]
     },
     "execution_count": 46,
     "metadata": {},
     "output_type": "execute_result"
    }
   ],
   "source": [
    "df1['CO2_emission'].describe()"
   ]
  },
  {
   "cell_type": "code",
   "execution_count": 47,
   "id": "169cfc8a",
   "metadata": {},
   "outputs": [
    {
     "data": {
      "text/html": [
       "<div>\n",
       "<style scoped>\n",
       "    .dataframe tbody tr th:only-of-type {\n",
       "        vertical-align: middle;\n",
       "    }\n",
       "\n",
       "    .dataframe tbody tr th {\n",
       "        vertical-align: top;\n",
       "    }\n",
       "\n",
       "    .dataframe thead th {\n",
       "        text-align: right;\n",
       "    }\n",
       "</style>\n",
       "<table border=\"1\" class=\"dataframe\">\n",
       "  <thead>\n",
       "    <tr style=\"text-align: right;\">\n",
       "      <th></th>\n",
       "      <th>Make</th>\n",
       "      <th>Model</th>\n",
       "      <th>Vehicle Class</th>\n",
       "      <th>Enginesize</th>\n",
       "      <th>Cylinders</th>\n",
       "      <th>Transmission</th>\n",
       "      <th>Fuel Type</th>\n",
       "      <th>fuelconsumptioncity</th>\n",
       "      <th>fuelconsumptionhwy</th>\n",
       "      <th>fuelconsumptioncomb</th>\n",
       "      <th>fuelconsumptioncombmpg</th>\n",
       "      <th>CO2_emission</th>\n",
       "      <th>zscore</th>\n",
       "    </tr>\n",
       "  </thead>\n",
       "  <tbody>\n",
       "    <tr>\n",
       "      <th>0</th>\n",
       "      <td>ACURA</td>\n",
       "      <td>ILX</td>\n",
       "      <td>COMPACT</td>\n",
       "      <td>2.0</td>\n",
       "      <td>4</td>\n",
       "      <td>AS5</td>\n",
       "      <td>Z</td>\n",
       "      <td>9.9</td>\n",
       "      <td>6.7</td>\n",
       "      <td>8.5</td>\n",
       "      <td>33</td>\n",
       "      <td>196.0</td>\n",
       "      <td>-0.944263</td>\n",
       "    </tr>\n",
       "    <tr>\n",
       "      <th>1</th>\n",
       "      <td>ACURA</td>\n",
       "      <td>ILX</td>\n",
       "      <td>COMPACT</td>\n",
       "      <td>2.4</td>\n",
       "      <td>4</td>\n",
       "      <td>M6</td>\n",
       "      <td>Z</td>\n",
       "      <td>11.2</td>\n",
       "      <td>7.7</td>\n",
       "      <td>9.6</td>\n",
       "      <td>29</td>\n",
       "      <td>221.0</td>\n",
       "      <td>-0.509159</td>\n",
       "    </tr>\n",
       "    <tr>\n",
       "      <th>2</th>\n",
       "      <td>ACURA</td>\n",
       "      <td>ILX HYBRID</td>\n",
       "      <td>COMPACT</td>\n",
       "      <td>1.5</td>\n",
       "      <td>4</td>\n",
       "      <td>AV7</td>\n",
       "      <td>Z</td>\n",
       "      <td>6.0</td>\n",
       "      <td>5.8</td>\n",
       "      <td>5.9</td>\n",
       "      <td>48</td>\n",
       "      <td>136.0</td>\n",
       "      <td>-1.988513</td>\n",
       "    </tr>\n",
       "    <tr>\n",
       "      <th>3</th>\n",
       "      <td>ACURA</td>\n",
       "      <td>MDX 4WD</td>\n",
       "      <td>SUV - SMALL</td>\n",
       "      <td>3.5</td>\n",
       "      <td>6</td>\n",
       "      <td>AS6</td>\n",
       "      <td>Z</td>\n",
       "      <td>12.7</td>\n",
       "      <td>9.1</td>\n",
       "      <td>11.1</td>\n",
       "      <td>25</td>\n",
       "      <td>255.0</td>\n",
       "      <td>0.082583</td>\n",
       "    </tr>\n",
       "    <tr>\n",
       "      <th>4</th>\n",
       "      <td>ACURA</td>\n",
       "      <td>RDX AWD</td>\n",
       "      <td>SUV - SMALL</td>\n",
       "      <td>3.5</td>\n",
       "      <td>6</td>\n",
       "      <td>AS6</td>\n",
       "      <td>Z</td>\n",
       "      <td>12.1</td>\n",
       "      <td>8.7</td>\n",
       "      <td>10.6</td>\n",
       "      <td>27</td>\n",
       "      <td>244.0</td>\n",
       "      <td>-0.108863</td>\n",
       "    </tr>\n",
       "  </tbody>\n",
       "</table>\n",
       "</div>"
      ],
      "text/plain": [
       "    Make       Model Vehicle Class  Enginesize  Cylinders Transmission  \\\n",
       "0  ACURA         ILX       COMPACT         2.0          4          AS5   \n",
       "1  ACURA         ILX       COMPACT         2.4          4           M6   \n",
       "2  ACURA  ILX HYBRID       COMPACT         1.5          4          AV7   \n",
       "3  ACURA     MDX 4WD   SUV - SMALL         3.5          6          AS6   \n",
       "4  ACURA     RDX AWD   SUV - SMALL         3.5          6          AS6   \n",
       "\n",
       "  Fuel Type  fuelconsumptioncity  fuelconsumptionhwy  fuelconsumptioncomb  \\\n",
       "0         Z                  9.9                 6.7                  8.5   \n",
       "1         Z                 11.2                 7.7                  9.6   \n",
       "2         Z                  6.0                 5.8                  5.9   \n",
       "3         Z                 12.7                 9.1                 11.1   \n",
       "4         Z                 12.1                 8.7                 10.6   \n",
       "\n",
       "   fuelconsumptioncombmpg  CO2_emission    zscore  \n",
       "0                      33         196.0 -0.944263  \n",
       "1                      29         221.0 -0.509159  \n",
       "2                      48         136.0 -1.988513  \n",
       "3                      25         255.0  0.082583  \n",
       "4                      27         244.0 -0.108863  "
      ]
     },
     "execution_count": 47,
     "metadata": {},
     "output_type": "execute_result"
    }
   ],
   "source": [
    "df1['zscore'] = ( df1['CO2_emission'] - df1['CO2_emission'].mean() ) / df1['CO2_emission'].std()\n",
    "df1.head()   "
   ]
  },
  {
   "cell_type": "code",
   "execution_count": 48,
   "id": "8e197b15",
   "metadata": {},
   "outputs": [],
   "source": [
    "# Imputing 'CO2_emission' Outliers \n",
    "\n",
    "lower_limit = df['CO2_emission'].mean() - 3*df['CO2_emission'].std()\n",
    "upper_limit = df['CO2_emission'].mean() + 3*df['CO2_emission'].std()\n",
    "df1.loc[df1.CO2_emission>upper_limit,'CO2_emission']=upper_limit\n",
    "df1.loc[df1.CO2_emission<lower_limit,'CO2_emission']=lower_limit"
   ]
  },
  {
   "cell_type": "code",
   "execution_count": 49,
   "id": "1e520218",
   "metadata": {},
   "outputs": [
    {
     "data": {
      "text/html": [
       "<div>\n",
       "<style scoped>\n",
       "    .dataframe tbody tr th:only-of-type {\n",
       "        vertical-align: middle;\n",
       "    }\n",
       "\n",
       "    .dataframe tbody tr th {\n",
       "        vertical-align: top;\n",
       "    }\n",
       "\n",
       "    .dataframe thead th {\n",
       "        text-align: right;\n",
       "    }\n",
       "</style>\n",
       "<table border=\"1\" class=\"dataframe\">\n",
       "  <thead>\n",
       "    <tr style=\"text-align: right;\">\n",
       "      <th></th>\n",
       "      <th>Enginesize</th>\n",
       "      <th>Cylinders</th>\n",
       "      <th>fuelconsumptioncity</th>\n",
       "      <th>fuelconsumptionhwy</th>\n",
       "      <th>fuelconsumptioncomb</th>\n",
       "      <th>fuelconsumptioncombmpg</th>\n",
       "      <th>CO2_emission</th>\n",
       "      <th>zscore</th>\n",
       "    </tr>\n",
       "  </thead>\n",
       "  <tbody>\n",
       "    <tr>\n",
       "      <th>count</th>\n",
       "      <td>7385.000000</td>\n",
       "      <td>7385.000000</td>\n",
       "      <td>7385.000000</td>\n",
       "      <td>7385.000000</td>\n",
       "      <td>7385.000000</td>\n",
       "      <td>7385.000000</td>\n",
       "      <td>7385.000000</td>\n",
       "      <td>7.385000e+03</td>\n",
       "    </tr>\n",
       "    <tr>\n",
       "      <th>mean</th>\n",
       "      <td>3.160068</td>\n",
       "      <td>5.615030</td>\n",
       "      <td>12.556534</td>\n",
       "      <td>9.041706</td>\n",
       "      <td>10.975071</td>\n",
       "      <td>27.481652</td>\n",
       "      <td>250.254976</td>\n",
       "      <td>-2.924953e-17</td>\n",
       "    </tr>\n",
       "    <tr>\n",
       "      <th>std</th>\n",
       "      <td>1.354170</td>\n",
       "      <td>1.828307</td>\n",
       "      <td>3.500274</td>\n",
       "      <td>2.224456</td>\n",
       "      <td>2.892506</td>\n",
       "      <td>7.231879</td>\n",
       "      <td>57.457501</td>\n",
       "      <td>1.000000e+00</td>\n",
       "    </tr>\n",
       "    <tr>\n",
       "      <th>min</th>\n",
       "      <td>0.900000</td>\n",
       "      <td>3.000000</td>\n",
       "      <td>4.200000</td>\n",
       "      <td>4.000000</td>\n",
       "      <td>4.100000</td>\n",
       "      <td>11.000000</td>\n",
       "      <td>96.000000</td>\n",
       "      <td>-2.684680e+00</td>\n",
       "    </tr>\n",
       "    <tr>\n",
       "      <th>25%</th>\n",
       "      <td>2.000000</td>\n",
       "      <td>4.000000</td>\n",
       "      <td>10.100000</td>\n",
       "      <td>7.500000</td>\n",
       "      <td>8.900000</td>\n",
       "      <td>22.000000</td>\n",
       "      <td>208.000000</td>\n",
       "      <td>-7.354127e-01</td>\n",
       "    </tr>\n",
       "    <tr>\n",
       "      <th>50%</th>\n",
       "      <td>3.000000</td>\n",
       "      <td>6.000000</td>\n",
       "      <td>12.100000</td>\n",
       "      <td>8.700000</td>\n",
       "      <td>10.600000</td>\n",
       "      <td>27.000000</td>\n",
       "      <td>246.000000</td>\n",
       "      <td>-7.405432e-02</td>\n",
       "    </tr>\n",
       "    <tr>\n",
       "      <th>75%</th>\n",
       "      <td>3.700000</td>\n",
       "      <td>6.000000</td>\n",
       "      <td>14.600000</td>\n",
       "      <td>10.200000</td>\n",
       "      <td>12.600000</td>\n",
       "      <td>32.000000</td>\n",
       "      <td>288.000000</td>\n",
       "      <td>6.569207e-01</td>\n",
       "    </tr>\n",
       "    <tr>\n",
       "      <th>max</th>\n",
       "      <td>8.400000</td>\n",
       "      <td>16.000000</td>\n",
       "      <td>30.600000</td>\n",
       "      <td>20.600000</td>\n",
       "      <td>26.100000</td>\n",
       "      <td>69.000000</td>\n",
       "      <td>408.000000</td>\n",
       "      <td>2.745421e+00</td>\n",
       "    </tr>\n",
       "  </tbody>\n",
       "</table>\n",
       "</div>"
      ],
      "text/plain": [
       "        Enginesize    Cylinders  fuelconsumptioncity  fuelconsumptionhwy  \\\n",
       "count  7385.000000  7385.000000          7385.000000         7385.000000   \n",
       "mean      3.160068     5.615030            12.556534            9.041706   \n",
       "std       1.354170     1.828307             3.500274            2.224456   \n",
       "min       0.900000     3.000000             4.200000            4.000000   \n",
       "25%       2.000000     4.000000            10.100000            7.500000   \n",
       "50%       3.000000     6.000000            12.100000            8.700000   \n",
       "75%       3.700000     6.000000            14.600000           10.200000   \n",
       "max       8.400000    16.000000            30.600000           20.600000   \n",
       "\n",
       "       fuelconsumptioncomb  fuelconsumptioncombmpg  CO2_emission        zscore  \n",
       "count          7385.000000             7385.000000   7385.000000  7.385000e+03  \n",
       "mean             10.975071               27.481652    250.254976 -2.924953e-17  \n",
       "std               2.892506                7.231879     57.457501  1.000000e+00  \n",
       "min               4.100000               11.000000     96.000000 -2.684680e+00  \n",
       "25%               8.900000               22.000000    208.000000 -7.354127e-01  \n",
       "50%              10.600000               27.000000    246.000000 -7.405432e-02  \n",
       "75%              12.600000               32.000000    288.000000  6.569207e-01  \n",
       "max              26.100000               69.000000    408.000000  2.745421e+00  "
      ]
     },
     "execution_count": 49,
     "metadata": {},
     "output_type": "execute_result"
    }
   ],
   "source": [
    "df1.describe()"
   ]
  },
  {
   "cell_type": "code",
   "execution_count": 50,
   "id": "6809e26e",
   "metadata": {},
   "outputs": [
    {
     "data": {
      "text/plain": [
       "(7385, 13)"
      ]
     },
     "execution_count": 50,
     "metadata": {},
     "output_type": "execute_result"
    }
   ],
   "source": [
    "df1.shape"
   ]
  },
  {
   "cell_type": "code",
   "execution_count": 51,
   "id": "5fe929e1",
   "metadata": {},
   "outputs": [
    {
     "data": {
      "text/plain": [
       "(7385, 12)"
      ]
     },
     "execution_count": 51,
     "metadata": {},
     "output_type": "execute_result"
    }
   ],
   "source": [
    "#remove z-score column\n",
    "df1.drop('zscore',axis=1,inplace=True)\n",
    "df1.shape"
   ]
  },
  {
   "cell_type": "code",
   "execution_count": 52,
   "id": "2a8d1492",
   "metadata": {},
   "outputs": [
    {
     "data": {
      "text/plain": [
       "Index(['Make', 'Model', 'Vehicle Class', 'Enginesize', 'Cylinders',\n",
       "       'Transmission', 'Fuel Type', 'fuelconsumptioncity',\n",
       "       'fuelconsumptionhwy', 'fuelconsumptioncomb', 'fuelconsumptioncombmpg',\n",
       "       'CO2_emission'],\n",
       "      dtype='object')"
      ]
     },
     "execution_count": 52,
     "metadata": {},
     "output_type": "execute_result"
    }
   ],
   "source": [
    "df1.columns"
   ]
  },
  {
   "cell_type": "code",
   "execution_count": null,
   "id": "443bb4d6",
   "metadata": {},
   "outputs": [],
   "source": []
  }
 ],
 "metadata": {
  "kernelspec": {
   "display_name": "Python 3",
   "language": "python",
   "name": "python3"
  },
  "language_info": {
   "codemirror_mode": {
    "name": "ipython",
    "version": 3
   },
   "file_extension": ".py",
   "mimetype": "text/x-python",
   "name": "python",
   "nbconvert_exporter": "python",
   "pygments_lexer": "ipython3",
   "version": "3.8.8"
  }
 },
 "nbformat": 4,
 "nbformat_minor": 5
}
